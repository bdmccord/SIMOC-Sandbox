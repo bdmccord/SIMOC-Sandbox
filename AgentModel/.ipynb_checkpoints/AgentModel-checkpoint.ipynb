{
 "cells": [
  {
   "cell_type": "markdown",
   "metadata": {},
   "source": [
    "# Agent Based Modeling for SIMOC\n",
    "\n",
    "Agent Based Modeling (ABM) is a modeling technique that uses different entities called agents to interact with each other and the environment to see what patterns emerge. This form of modeling has been popular for a couple of decades now and has allowed researchers to understand how large numbers of different entities interact in a number of problems ranging from segregation to predation in the wild.\n",
    "\n",
    "Given the ability of Agent Based Modeling to help predict the behavior of a number of interacting agents, it would be an ideal fit for the challenge of modeling an isolated colony. In this notebook, a small scale model of SIMOC, people and plants, will be used to see how different agents will respond to environmental factors and how Agent Based Modeling might to applied to a full colony."
   ]
  },
  {
   "cell_type": "markdown",
   "metadata": {},
   "source": [
    "To start building this model, we need to import the Mesa ABM library to help with the bulk of the model building. The SingleRoomMode library, which handles a lot of the computation, is also imported with this notebook."
   ]
  },
  {
   "cell_type": "code",
   "execution_count": 1,
   "metadata": {
    "collapsed": true
   },
   "outputs": [],
   "source": [
    "from mesa import Agent\n",
    "from model import SingleRoomModel"
   ]
  },
  {
   "cell_type": "markdown",
   "metadata": {},
   "source": [
    "We'll start by modeling a Buman agent. In the Mesa library, the Agent class helps to define the Agent class and how the agent moves from one step to the next, so everything that the Human agent does will be modified in the step function. For now, the only part of the Human agent that will be defined is removing it if the oxygen level is too low or the carbon level is too high."
   ]
  },
  {
   "cell_type": "code",
   "execution_count": null,
   "metadata": {
    "collapsed": true
   },
   "outputs": [],
   "source": [
    "class Human(Agent):\n",
    "    def __init__(self, name, model):\n",
    "        super().__init__(name, model)\n",
    "        self.name = name\n",
    "\n",
    "    def step(self):\n",
    "        print(\"Human {} active\".format(self.name+1))\n",
    "\n",
    "        if self.model.oxygen < 15.17 or self.model.carbon > 0.53:\n",
    "            self.model.schedule.remove(self)"
   ]
  },
  {
   "cell_type": "markdown",
   "metadata": {},
   "source": [
    "Now, we'll create a Plant agent in the same fashion. Again, the bulk of the change will happen in the step function, except this time, a Plant agent will create another Plant agent after 20 steps to make the model more interesting and non-linear. A Plant agent will also be removed if the carbon dioxide level dips below a healthy level"
   ]
  },
  {
   "cell_type": "code",
   "execution_count": 2,
   "metadata": {
    "collapsed": true
   },
   "outputs": [],
   "source": [
    "class Plant(Agent):\n",
    "\n",
    "    def __init__(self, name, model,turnCount=20):\n",
    "        super().__init__(name, model)\n",
    "        self.name = name\n",
    "        self.turnCount = turnCount\n",
    "\n",
    "    def step(self):\n",
    "        print(\"Plant {} active\".format(self.name+1))\n",
    "\n",
    "        self.turnCount-=1\n",
    "\n",
    "        if self.turnCount <= 0:\n",
    "            plant = Plant(random.randint(1,50),self.model)\n",
    "            self.model.schedule.add(plant)\n",
    "            self.turnCount = 20\n",
    "\n",
    "        if self.model.carbon < 0.015:\n",
    "            self.model.schedule.remove(self)"
   ]
  },
  {
   "cell_type": "markdown",
   "metadata": {},
   "source": [
    "Now, we'll create a Single Room model with 4 people and 1 square meter of plants, run the model, and catch the output data to be graphed later. The output shows which Plants and Human agents are still active in the model after each step."
   ]
  },
  {
   "cell_type": "code",
   "execution_count": 1,
   "metadata": {},
   "outputs": [
    {
     "ename": "NameError",
     "evalue": "name 'SingleRoomModel' is not defined",
     "output_type": "error",
     "traceback": [
      "\u001b[0;31m---------------------------------------------------------------------------\u001b[0m",
      "\u001b[0;31mNameError\u001b[0m                                 Traceback (most recent call last)",
      "\u001b[0;32m<ipython-input-1-a97b44667c8f>\u001b[0m in \u001b[0;36m<module>\u001b[0;34m()\u001b[0m\n\u001b[0;32m----> 1\u001b[0;31m \u001b[0mSingleRoom\u001b[0m \u001b[0;34m=\u001b[0m \u001b[0mSingleRoomModel\u001b[0m\u001b[0;34m(\u001b[0m\u001b[0;36m1\u001b[0m\u001b[0;34m,\u001b[0m\u001b[0;36m4\u001b[0m\u001b[0;34m)\u001b[0m\u001b[0;34m\u001b[0m\u001b[0m\n\u001b[0m\u001b[1;32m      2\u001b[0m \u001b[0mx1\u001b[0m\u001b[0;34m,\u001b[0m \u001b[0mx2\u001b[0m\u001b[0;34m,\u001b[0m \u001b[0mz\u001b[0m \u001b[0;34m=\u001b[0m \u001b[0mSingleRoom\u001b[0m\u001b[0;34m.\u001b[0m\u001b[0mrun_model\u001b[0m\u001b[0;34m(\u001b[0m\u001b[0;34m)\u001b[0m\u001b[0;34m\u001b[0m\u001b[0m\n",
      "\u001b[0;31mNameError\u001b[0m: name 'SingleRoomModel' is not defined"
     ]
    }
   ],
   "source": [
    "SingleRoom = SingleRoomModel(1,4)\n",
    "x1, x2, z = SingleRoom.run_model()"
   ]
  },
  {
   "cell_type": "markdown",
   "metadata": {},
   "source": [
    "Finally, we can use the data that came from the model to view what the oxygen and carbon dioxide levels looked like over the course of the model."
   ]
  },
  {
   "cell_type": "code",
   "execution_count": 8,
   "metadata": {},
   "outputs": [
    {
     "data": {
      "image/png": "[encoded data removed]",
      "text/plain": [
       "<matplotlib.figure.Figure at 0x108587978>"
      ]
     },
     "metadata": {},
     "output_type": "display_data"
    }
   ],
   "source": [
    "import matplotlib.pyplot as plt\n",
    "\n",
    "plt.subplot(2, 1, 1)\n",
    "plt.plot(range(z), x1, 'b')\n",
    "#plt.title('Gas Partial Pressures')\n",
    "plt.grid(True)\n",
    "plt.ylabel('Oxygen (kPa)')\n",
    "\n",
    "plt.subplot(2, 1, 2)\n",
    "plt.plot(range(z), x2, 'r')\n",
    "plt.xlabel('Time (hours)')\n",
    "plt.ylabel('Carbon Dioxide (kPa)')\n",
    "plt.grid(True)\n",
    "\n",
    "plt.tight_layout()\n",
    "plt.subplots_adjust(top=0.9)\n",
    "plt.suptitle(\"Gas Partial Pressures\")\n",
    "plt.show()\n"
   ]
  },
  {
   "cell_type": "code",
   "execution_count": null,
   "metadata": {
    "collapsed": true
   },
   "outputs": [],
   "source": []
  }
 ],
 "metadata": {
  "kernelspec": {
   "display_name": "Python 3",
   "language": "python",
   "name": "python3"
  },
  "language_info": {
   "codemirror_mode": {
    "name": "ipython",
    "version": 3
   },
   "file_extension": ".py",
   "mimetype": "text/x-python",
   "name": "python",
   "nbconvert_exporter": "python",
   "pygments_lexer": "ipython3",
   "version": "3.6.1"
  }
 },
 "nbformat": 4,
 "nbformat_minor": 2
}
