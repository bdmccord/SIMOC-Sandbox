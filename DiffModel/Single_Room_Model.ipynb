{
 "cells": [
  {
   "cell_type": "markdown",
   "metadata": {},
   "source": [
    "# SIMOC - Single Room Model\n",
    "\n",
    "## Introduction to Modeling a Completely Self-Sufficient Colony\n",
    "\n",
    "SIMOC (see-mock), or A Scalable Model of an Isolated Human Colony, is a proposed mathematical model of an isolated human colony. The goal of this model is to help understand how an off-world colony would handle the task of dynamically producing and allocating essential resources such as air, water, power, and food. As well as monitoring these vital resources, SIMOC will also consider the health and well-being those in the colony and rely on their expertise for accomplishing different tasks. \n",
    "\n",
    "## Simplifying the Model\n",
    "\n",
    "Modeling a completely self-sufficient human colony such as this will ultimately draw from a number closed ecological studies as well as the expertise of various disciplines such as biology, health science, sociology, and sustainability. However, this complex model can be simplified to help understand how this system operates on a basic level. \n",
    "\n",
    "In this python notebook, a simple model of a plant and a person will be created to help understand the transfer of oxygen, carbon dioxide, and water through the air. This simple model will make a couple of assumptions which dictate the values used in these calculations:\n",
    "\n",
    "* The plant being used in this model is wheat\n",
    "\n",
    "* The person in this model is assumed to weigh 82 kg, the median male mass\n",
    "\n",
    "* The room in which this model takes place is 10 meters x 10 meters x 10 meters\n",
    "\n",
    "* The gas is treated as an ideal gas\n",
    "\n",
    "\n",
    "To begin, classes will be created to define a colony of people (in this case one person) and a given area of wheat."
   ]
  },
  {
   "cell_type": "markdown",
   "metadata": {
    "collapsed": true
   },
   "source": [
    "\n",
    "## Human Colony Class\n",
    "\n",
    "The first class that will be created will be a Human Colony class. In this class, a person (or people) with different traits characteristic of this colony. These being breathing, perspiring, and being removed from the room if the carbon dioxide in the room is too high or the oxygen in the room is too low. The values used in these calculations are based on the Baseline Values and Assumptions Document provided by NASA."
   ]
  },
  {
   "cell_type": "code",
   "execution_count": 37,
   "metadata": {},
   "outputs": [],
   "source": [
    "class HumanColony(object):\n",
    "    def __init__(self,number=0):\n",
    "        self.number = number\n",
    "        self.oxygen = 0\n",
    "        self.carbon = 0\n",
    "        self.water = 0\n",
    "    def breath(self,o2,co2,timeScale=1):\n",
    "        # Assumption that the carbon dioxide and oxygen are ideal gases\n",
    "        # P = nRT/V, R = kPa * m^3 * mol^-1 * K^-1\n",
    "        # Exhaled and Inhaled values in kg/CM-d --- CM-d = Crewmember days\n",
    "        self.oxygen=o2-(self.number)*(0.818/0.032)*(timeScale)*(8.28*10**-3)*(296)/(1000)\n",
    "        self.carbon=co2+(self.number)*(1.037/0.044)*(timeScale)*(8.28*10**-3)*(296)/(1000)\n",
    "        return self.oxygen, self.carbon # return carbon and oxygen kPa per day\n",
    "    def removePeople(self,remove=1):\n",
    "        if (self.number-remove>0):\n",
    "            self.number-=remove\n",
    "        else:\n",
    "            self.number=0\n",
    "    def perspire(self,h2o,timeScale=1):\n",
    "        self.water = h2o+(1.585/0.032)*(timeScale)*(8.28*10**-3)*(296)/(1000)\n",
    "        return self.water"
   ]
  },
  {
   "cell_type": "markdown",
   "metadata": {},
   "source": [
    "  "
   ]
  },
  {
   "cell_type": "markdown",
   "metadata": {},
   "source": [
    "## Plant Colony Class\n",
    "\n",
    "Similarly to the Human Colony class, a Plant Colony class will also be defined to create a Plant Colony object in the simple model. The Plant Colony objects created in this class will have methods that control breating, water uptake, and the addition and removal of crops. These methods handle the total amounts of free oxygen, carbon dioxide, and water vapor in the air. All the values are based on the characteristic of wheat detailed in the Baseline Values and Assumptions Document."
   ]
  },
  {
   "cell_type": "code",
   "execution_count": 38,
   "metadata": {
    "collapsed": true
   },
   "outputs": [],
   "source": [
    "class PlantColony(object):\n",
    "    def __init__(self, area=0,maxArea=0):\n",
    "        # Area in m^2\n",
    "        self.area = area\n",
    "        \n",
    "        # Gas in units of kPa\n",
    "        self.oxygen = 0\n",
    "        self.carbon = 0\n",
    "        self.water = 0\n",
    "    def breath(self,o2,co2,timeScale=1):\n",
    "        # Values based on wheat in kg/m^2*d\n",
    "        # Assumption that the carbon dioxide and oxygen are ideal gases\n",
    "        self.carbon=co2-(self.area)*(77/44)*(timeScale)*(8.28*10**-3)*(296)/(1000)\n",
    "        self.oxygen=o2+(self.area)*(56/32)*(timeScale)*(8.28*10**-3)*(296)/(1000)\n",
    "        return self.oxygen,self.carbon\n",
    "    def waterUptake(self,h2o,timeScale=1):\n",
    "        self.water = h2o+(self.area)*(11.79)*(timeScale)\n",
    "        return self.water\n",
    "    def addCrops(self,size):\n",
    "        if (self.area+size < maxArea):\n",
    "            self.area += size\n",
    "        else:\n",
    "            self.area = maxArea\n",
    "    def removeCrops(self,size):\n",
    "        if (self.area-size>0):\n",
    "            self.area -= size\n",
    "        else:\n",
    "            self.area = 0"
   ]
  },
  {
   "cell_type": "markdown",
   "metadata": {},
   "source": [
    "Now that the classes are defined, Human Colony and Plant Colony objects can be created and added to the room. For simplicity, the Human Colony will start with one person and Plant Colony will start with 1 m<sup>2</sup> of crops with a maximum plantable area of 100 m<sup>2</sup>."
   ]
  },
  {
   "cell_type": "code",
   "execution_count": 39,
   "metadata": {
    "collapsed": true
   },
   "outputs": [],
   "source": [
    "person = HumanColony(1)\n",
    "plant = PlantColony(1,100)"
   ]
  },
  {
   "cell_type": "markdown",
   "metadata": {},
   "source": [
    "Next, some starting values will be defined to create the environment. In this case, the room created will have an oxygen content of *21.21 kPa* and a carbon dioxide content of *0.13 kPa* and a total pressure of *101 kPa*. These values were considered to be nominal in the Baseline Values and Assumptions Document. Empty lists are also created to store the total oxygen and carbon dioxide values after each time step to be used for graphing later."
   ]
  },
  {
   "cell_type": "code",
   "execution_count": 40,
   "metadata": {
    "collapsed": true
   },
   "outputs": [],
   "source": [
    "oxygen = 21.21 # kPa\n",
    "carbon = 0.13 # kPa\n",
    "totOxy = []\n",
    "totCarbon = []"
   ]
  },
  {
   "cell_type": "markdown",
   "metadata": {},
   "source": [
    "Now, these values are fed in the functions in the loop to watch the air content change hourly and have the person and plant objects respond accordingly in a simple way."
   ]
  },
  {
   "cell_type": "code",
   "execution_count": 41,
   "metadata": {},
   "outputs": [],
   "source": [
    "for i in range(2400):\n",
    "    oxygen, carbon = person.breath(oxygen,carbon,0.041666)\n",
    "    oxygen, carbon = plant.breath(oxygen,carbon,0.041666)\n",
    "    if (carbon>0.53 or oxygen<15.17):\n",
    "        person.removePeople()\n",
    "    if (carbon<0.015):\n",
    "        plant.removeCrops(10)\n",
    "    totOxy.append(oxygen)\n",
    "    totCarbon.append(carbon)"
   ]
  },
  {
   "cell_type": "markdown",
   "metadata": {},
   "source": [
    "Import Matplotlib to help plot these values. Finally, plot these values on one graph."
   ]
  },
  {
   "cell_type": "code",
   "execution_count": 44,
   "metadata": {},
   "outputs": [
    {
     "data": {
      "image/png": "[encoded data removed]",
      "text/plain": [
       "<matplotlib.figure.Figure at 0x1085b02d0>"
      ]
     },
     "metadata": {},
     "output_type": "display_data"
    }
   ],
   "source": [
    "import matplotlib.pyplot as plt\n",
    "\n",
    "plt.plot(range(2400),totOxy, 'r', label=\"Oxygen\")\n",
    "plt.plot(range(2400),totCarbon, 'g', label=\"Carbon Dioxide\")\n",
    "plt.xlabel('Time (Days)')\n",
    "plt.ylabel('Gas Pressure (kPa)')\n",
    "plt.title('Oxygen and Carbon Dioxide')\n",
    "plt.grid(True)\n",
    "plt.legend(loc='best')\n",
    "\n",
    "plt.show()"
   ]
  },
  {
   "cell_type": "code",
   "execution_count": null,
   "metadata": {
    "collapsed": true
   },
   "outputs": [],
   "source": []
  }
 ],
 "metadata": {
  "kernelspec": {
   "display_name": "Python 2",
   "language": "python",
   "name": "python2"
  },
  "language_info": {
   "codemirror_mode": {
    "name": "ipython",
    "version": 2
   },
   "file_extension": ".py",
   "mimetype": "text/x-python",
   "name": "python",
   "nbconvert_exporter": "python",
   "pygments_lexer": "ipython2",
   "version": "2.7.13"
  }
 },
 "nbformat": 4,
 "nbformat_minor": 2
}
